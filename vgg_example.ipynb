{
 "cells": [
  {
   "cell_type": "code",
   "execution_count": 1,
   "id": "7c68069e",
   "metadata": {},
   "outputs": [],
   "source": [
    "import torch\n",
    "import torch.nn as nn\n",
    "import torch.nn.functional as F\n",
    "import fused_add_relu_ext_openmp_simd as ext  # Import the custom C++ extension\n",
    "import torch.optim as optim\n",
    "from torchvision import datasets, transforms\n",
    "from torch.utils.data import DataLoader"
   ]
  },
  {
   "cell_type": "code",
   "execution_count": 2,
   "id": "496d4367",
   "metadata": {},
   "outputs": [
    {
     "name": "stderr",
     "output_type": "stream",
     "text": [
      "100.0%\n",
      "100.0%\n",
      "100.0%\n",
      "100.0%\n"
     ]
    }
   ],
   "source": [
    "# Define transformations\n",
    "transform = transforms.Compose([\n",
    "    transforms.ToTensor(),\n",
    "    transforms.Normalize((0.1307,), (0.3081,)) # Mean and std for MNIST\n",
    "])\n",
    "\n",
    "# Load MNIST datasets\n",
    "train_dataset = datasets.MNIST('./data', train=True, download=True, transform=transform)\n",
    "test_dataset = datasets.MNIST('./data', train=False, download=True, transform=transform)\n",
    "\n",
    "# Create DataLoaders\n",
    "train_loader = DataLoader(train_dataset, batch_size=64, shuffle=True)\n",
    "test_loader = DataLoader(test_dataset, batch_size=1000, shuffle=False)"
   ]
  },
  {
   "cell_type": "code",
   "execution_count": 18,
   "id": "7ed37fe3",
   "metadata": {},
   "outputs": [],
   "source": [
    "\n",
    "class SimpleVGG(nn.Module):\n",
    "    def __init__(self, in_channels=3, input_size=32, num_classes=10):\n",
    "        super().__init__()\n",
    "        self.features = nn.Sequential(\n",
    "            nn.Conv2d(in_channels, input_size, 3, padding=1),\n",
    "            nn.ReLU(inplace=True),\n",
    "            nn.Conv2d(input_size, 32, 3, padding=1),\n",
    "            nn.ReLU(inplace=True),\n",
    "            nn.MaxPool2d(2),\n",
    "\n",
    "            nn.Conv2d(32, 64, 3, padding=1),\n",
    "            nn.ReLU(inplace=True),\n",
    "            nn.Conv2d(64, 64, 3, padding=1),\n",
    "            nn.ReLU(inplace=True),\n",
    "            nn.MaxPool2d(2),\n",
    "        )\n",
    "        self.classifier = nn.Sequential(\n",
    "            nn.Flatten(),\n",
    "            nn.Linear(64 * 7 * 7, 256),\n",
    "            nn.ReLU(),\n",
    "            nn.Linear(256, num_classes),\n",
    "        )\n",
    "\n",
    "    def forward(self, x):\n",
    "        # example: call custom op between conv layers if you want\n",
    "        x = self.features(x)\n",
    "        x = self.classifier(x)\n",
    "        return x\n",
    "\n",
    "model = SimpleVGG(in_channels=1, input_size=28)  # For MNIST, use 1 input channel and 28x28 size"
   ]
  },
  {
   "cell_type": "code",
   "execution_count": 14,
   "id": "8385eac6",
   "metadata": {},
   "outputs": [],
   "source": [
    "def training_loop():\n",
    "    criterion = nn.CrossEntropyLoss()\n",
    "    optimizer = optim.Adam(model.parameters(), lr=0.001)\n",
    "\n",
    "    num_epochs = 10\n",
    "\n",
    "    for epoch in range(num_epochs):\n",
    "        model.train() # Set model to training mode\n",
    "        for batch_idx, (data, target) in enumerate(train_loader):\n",
    "            optimizer.zero_grad() # Clear gradients\n",
    "            output = model(data)\n",
    "            loss = criterion(output, target)\n",
    "            loss.backward() # Backpropagation\n",
    "            optimizer.step() # Update weights\n",
    "\n",
    "            if batch_idx % 100 == 0:\n",
    "                print(f'Epoch: {epoch+1}/{num_epochs}, Batch: {batch_idx}/{len(train_loader)}, Loss: {loss.item():.4f}')\n",
    "\n",
    "        # Evaluation after each epoch\n",
    "        model.eval() # Set model to evaluation mode\n",
    "        correct = 0\n",
    "        total = 0\n",
    "        with torch.no_grad(): # Disable gradient calculation for evaluation\n",
    "            for data, target in test_loader:\n",
    "                output = model(data)\n",
    "                _, predicted = torch.max(output.data, 1)\n",
    "                total += target.size(0)\n",
    "                correct += (predicted == target).sum().item()\n",
    "\n",
    "        accuracy = 100 * correct / total\n",
    "        print(f'Epoch {epoch+1} Test Accuracy: {accuracy:.2f}%')"
   ]
  },
  {
   "cell_type": "code",
   "execution_count": null,
   "id": "52f66504",
   "metadata": {},
   "outputs": [
    {
     "name": "stdout",
     "output_type": "stream",
     "text": [
      "torch.Size([8, 10])\n",
      "tensor([1.9800, 1.0092, 0.3851, 0.0000, 2.2596, 0.1891, 0.2745, 0.8039, 0.0000,\n",
      "        0.0000])\n",
      "Epoch: 1/10, Batch: 0/938, Loss: 2.2995\n",
      "Epoch: 1/10, Batch: 100/938, Loss: 0.1658\n",
      "Epoch: 1/10, Batch: 200/938, Loss: 0.0567\n",
      "Epoch: 1/10, Batch: 300/938, Loss: 0.0263\n",
      "Epoch: 1/10, Batch: 400/938, Loss: 0.0870\n",
      "Epoch: 1/10, Batch: 500/938, Loss: 0.0245\n",
      "Epoch: 1/10, Batch: 600/938, Loss: 0.0132\n",
      "Epoch: 1/10, Batch: 700/938, Loss: 0.0329\n",
      "Epoch: 1/10, Batch: 800/938, Loss: 0.0521\n",
      "Epoch: 1/10, Batch: 900/938, Loss: 0.0431\n",
      "Epoch 1 Test Accuracy: 98.58%\n",
      "Epoch: 2/10, Batch: 0/938, Loss: 0.0149\n",
      "Epoch: 2/10, Batch: 100/938, Loss: 0.0353\n",
      "Epoch: 2/10, Batch: 200/938, Loss: 0.0791\n",
      "Epoch: 2/10, Batch: 300/938, Loss: 0.0111\n",
      "Epoch: 2/10, Batch: 400/938, Loss: 0.1231\n",
      "Epoch: 2/10, Batch: 500/938, Loss: 0.0798\n",
      "Epoch: 2/10, Batch: 600/938, Loss: 0.0081\n",
      "Epoch: 2/10, Batch: 700/938, Loss: 0.0907\n",
      "Epoch: 2/10, Batch: 800/938, Loss: 0.0256\n",
      "Epoch: 2/10, Batch: 900/938, Loss: 0.0171\n",
      "Epoch 2 Test Accuracy: 99.16%\n",
      "Epoch: 3/10, Batch: 0/938, Loss: 0.0087\n",
      "Epoch: 3/10, Batch: 100/938, Loss: 0.0057\n",
      "Epoch: 3/10, Batch: 200/938, Loss: 0.0236\n",
      "Epoch: 3/10, Batch: 300/938, Loss: 0.1357\n",
      "Epoch: 3/10, Batch: 400/938, Loss: 0.0051\n",
      "Epoch: 3/10, Batch: 500/938, Loss: 0.0049\n",
      "Epoch: 3/10, Batch: 600/938, Loss: 0.0011\n",
      "Epoch: 3/10, Batch: 700/938, Loss: 0.0132\n",
      "Epoch: 3/10, Batch: 800/938, Loss: 0.0102\n",
      "Epoch: 3/10, Batch: 900/938, Loss: 0.0188\n",
      "Epoch 3 Test Accuracy: 99.23%\n",
      "Epoch: 4/10, Batch: 0/938, Loss: 0.0501\n",
      "Epoch: 4/10, Batch: 100/938, Loss: 0.0570\n",
      "Epoch: 4/10, Batch: 200/938, Loss: 0.0411\n"
     ]
    }
   ],
   "source": [
    "\n",
    "# usage\n",
    "if __name__ == \"__main__\":\n",
    "    inp = torch.randn(8, 1, 28, 28)  # batch 8\n",
    "    out = model(inp)\n",
    "    print(out.shape)\n",
    "\n",
    "    # Own module test\n",
    "    a = torch.randn(10)\n",
    "    b = torch.randn(10)\n",
    "    out = ext.fused_add_relu(a, b)\n",
    "    print(out)\n",
    "\n",
    "    training_loop()"
   ]
  }
 ],
 "metadata": {
  "kernelspec": {
   "display_name": "Python 3",
   "language": "python",
   "name": "python3"
  },
  "language_info": {
   "codemirror_mode": {
    "name": "ipython",
    "version": 3
   },
   "file_extension": ".py",
   "mimetype": "text/x-python",
   "name": "python",
   "nbconvert_exporter": "python",
   "pygments_lexer": "ipython3",
   "version": "3.11.9"
  }
 },
 "nbformat": 4,
 "nbformat_minor": 5
}
